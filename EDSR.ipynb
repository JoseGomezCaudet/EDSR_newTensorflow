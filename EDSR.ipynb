{
 "cells": [
  {
   "cell_type": "code",
   "execution_count": 1,
   "id": "2cb76868-418f-4122-9b79-69cabf491f88",
   "metadata": {},
   "outputs": [],
   "source": [
    "import os\n",
    "import tensorflow as tf"
   ]
  },
  {
   "cell_type": "code",
   "execution_count": 2,
   "id": "b6b649ef-a830-4931-94ec-effafe1ea7f4",
   "metadata": {},
   "outputs": [],
   "source": [
    "import run\n",
    "import edsr\n",
    "import data_utils"
   ]
  },
  {
   "cell_type": "code",
   "execution_count": 3,
   "id": "9a4c7aa0-140f-4b33-9a90-ba233e3407b7",
   "metadata": {},
   "outputs": [
    {
     "name": "stdout",
     "output_type": "stream",
     "text": [
      "True\n",
      "[PhysicalDevice(name='/physical_device:CPU:0', device_type='CPU'), PhysicalDevice(name='/physical_device:GPU:0', device_type='GPU')]\n"
     ]
    }
   ],
   "source": [
    "print(tf.test.is_built_with_cuda())\n",
    "print(tf.config.list_physical_devices()) "
   ]
  },
  {
   "cell_type": "code",
   "execution_count": 4,
   "id": "d6a3f6fb-4c1f-443f-a67f-193a05d24baf",
   "metadata": {},
   "outputs": [],
   "source": [
    "#data_utils.calcmean(\"div2k/DIV2K_train_HR\")  --output [103.03491561, 111.53999493, 122.32433138]"
   ]
  },
  {
   "cell_type": "code",
   "execution_count": 5,
   "id": "18234236-912e-43e2-b607-91d67833501c",
   "metadata": {},
   "outputs": [],
   "source": [
    "scale = 2\n",
    "meanbgr = [103.03491561, 111.53999493, 122.32433138]\n",
    "ckpt_path = \"\"\n",
    "if scale == 2:\n",
    "    ckpt_path = \"./CKPT_dir/x2/\"\n",
    "elif scale == 3:\n",
    "    ckpt_path = \"./CKPT_dir/x3/\"\n",
    "elif scale == 4:\n",
    "    ckpt_path = \"./CKPT_dir/x4/\"\n",
    "else:\n",
    "    print(\"No checkpoint directory. Choose scale 2, 3 or 4. Or add checkpoint directory for this scale.\")\n",
    "    exit()\n",
    "\n",
    "batch_size = 10\n",
    "epochs = 2\n",
    "load_flag = False\n",
    "\n",
    "run = run.Run(ckpt_path, scale, batch_size, epochs, load_flag, meanbgr) "
   ]
  },
  {
   "cell_type": "code",
   "execution_count": null,
   "id": "effefaa7-21e0-43d7-936e-9b6ac58c78e5",
   "metadata": {},
   "outputs": [
    {
     "name": "stdout",
     "output_type": "stream",
     "text": [
      "\n",
      "Running EDSR.\n",
      "No checkpoint found or 'load_flag' not set. Training from scratch.\n",
      "Training...\n",
      "Start of Epoch 1\n",
      "Step 0\n",
      "Step 0: loss = 51.62123489379883\n",
      "Step 10\n",
      "Step 20\n",
      "Step 30\n",
      "Step 40\n",
      "Step 50\n",
      "Step 60\n",
      "Step 70\n",
      "Step 80\n",
      "Step 90\n",
      "Step 100\n",
      "Step 110\n",
      "Step 120\n",
      "Step 130\n",
      "Step 140\n",
      "Step 150\n",
      "Step 160\n",
      "Step 170\n",
      "Step 180\n",
      "Step 190\n",
      "Step 200\n",
      "Step 210\n",
      "Step 220\n",
      "Step 230\n",
      "Step 240\n",
      "Step 250\n",
      "Step 260\n",
      "Step 270\n",
      "Step 280\n",
      "Step 290\n",
      "Step 300\n",
      "Step 310\n",
      "Step 320\n",
      "Step 330\n",
      "Step 340\n",
      "Step 350\n",
      "Step 360\n",
      "Step 370\n",
      "Step 380\n",
      "Step 390\n",
      "Step 400\n",
      "Step 410\n",
      "Step 420\n",
      "Step 430\n",
      "Step 440\n",
      "Step 450\n",
      "Step 460\n",
      "Step 470\n",
      "Step 480\n",
      "Step 490\n",
      "Step 500\n",
      "Step 510\n",
      "Step 520\n",
      "Step 530\n",
      "Step 540\n",
      "Step 550\n",
      "Step 560\n",
      "Step 570\n",
      "Step 580\n",
      "Step 590\n",
      "Step 600\n",
      "Step 610\n",
      "Step 620\n",
      "Step 630\n",
      "Step 640\n",
      "Step 650\n",
      "Step 660\n",
      "Step 670\n",
      "Step 680\n",
      "Step 690\n",
      "Step 700\n",
      "Step 710\n",
      "Step 720\n",
      "Step 730\n",
      "Step 740\n",
      "Step 750\n",
      "Step 760\n",
      "Step 770\n",
      "Step 780\n",
      "Step 790\n",
      "Step 800\n",
      "Step 810\n"
     ]
    }
   ],
   "source": [
    "run.train(\"div2k/DIV2K_train_HR\", \"div2k/DIV2K_valid_HR\")"
   ]
  },
  {
   "cell_type": "code",
   "execution_count": null,
   "id": "a7b9cb09-3d60-4c94-ad3e-8f7a685ed317",
   "metadata": {},
   "outputs": [],
   "source": []
  }
 ],
 "metadata": {
  "kernelspec": {
   "display_name": "Python 3 (ipykernel)",
   "language": "python",
   "name": "python3"
  },
  "language_info": {
   "codemirror_mode": {
    "name": "ipython",
    "version": 3
   },
   "file_extension": ".py",
   "mimetype": "text/x-python",
   "name": "python",
   "nbconvert_exporter": "python",
   "pygments_lexer": "ipython3",
   "version": "3.9.18"
  }
 },
 "nbformat": 4,
 "nbformat_minor": 5
}
